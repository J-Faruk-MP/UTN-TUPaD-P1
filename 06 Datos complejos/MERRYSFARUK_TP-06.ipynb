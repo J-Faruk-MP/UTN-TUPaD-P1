{
 "cells": [
  {
   "cell_type": "markdown",
   "id": "80406f75",
   "metadata": {},
   "source": [
    "# Practico 5 Listas"
   ]
  },
  {
   "cell_type": "markdown",
   "id": "3395cff2",
   "metadata": {},
   "source": [
    "1) Crear una lista con los números del 1 al 100 que sean múltiplos de 4. Utilizar la función\n",
    "range."
   ]
  },
  {
   "cell_type": "code",
   "execution_count": 1,
   "id": "49c325f5",
   "metadata": {},
   "outputs": [
    {
     "name": "stdout",
     "output_type": "stream",
     "text": [
      "[4, 8, 12, 16, 20, 24, 28, 32, 36, 40, 44, 48, 52, 56, 60, 64, 68, 72, 76, 80, 84, 88, 92, 96]\n"
     ]
    }
   ],
   "source": [
    "multiplos_de_4 = list(range(4,100,4))\n",
    "print(multiplos_de_4)"
   ]
  },
  {
   "cell_type": "markdown",
   "id": "52c98125",
   "metadata": {},
   "source": [
    "2) Crear una lista con cinco elementos (colocar los elementos que más te gusten) y mostrar el\n",
    "penúltimo. ¡Puedes hacerlo como se muestra en los videos o bien investigar cómo funciona el\n",
    "indexing con números negativos!\n"
   ]
  },
  {
   "cell_type": "code",
   "execution_count": 2,
   "id": "b5ff8cd3",
   "metadata": {},
   "outputs": [
    {
     "name": "stdout",
     "output_type": "stream",
     "text": [
      "Finanzas\n"
     ]
    }
   ],
   "source": [
    "mis_gustos = [\"frances\",\"Programacion\",\"Data\",\"Finanzas\",\"SAP\"]\n",
    "print(mis_gustos[3])"
   ]
  },
  {
   "cell_type": "markdown",
   "id": "c5477076",
   "metadata": {},
   "source": [
    "3) Crear una lista vacía, agregar tres palabras con append e imprimir la lista resultante por\n",
    "pantalla. Pista: para crear una lista vacía debes colocar los corchetes sin nada en su interior. Por\n",
    "ejemplo:"
   ]
  },
  {
   "cell_type": "code",
   "execution_count": 3,
   "id": "ea8d3530",
   "metadata": {},
   "outputs": [
    {
     "name": "stdout",
     "output_type": "stream",
     "text": [
      "['cocina', 'gym', 'lectura']\n"
     ]
    }
   ],
   "source": [
    "vacio = []\n",
    "vacio.append(\"cocina\")\n",
    "vacio.append(\"gym\")\n",
    "vacio.append(\"lectura\")\n",
    "\n",
    "pasatiempos = vacio\n",
    "print(pasatiempos)"
   ]
  },
  {
   "cell_type": "markdown",
   "id": "edb984bc",
   "metadata": {},
   "source": [
    "4) Reemplazar el segundo y último valor de la lista “animales” con las palabras “loro” y “oso”,\n",
    "respectivamente. Imprimir la lista resultante por pantalla. ¡Puedes hacerlo como se muestra\n",
    "en los videos o bien investigar cómo funciona el indexing con números negativos!\n",
    "animales = [\"perro\", \"gato\", \"conejo\", \"pez\"]"
   ]
  },
  {
   "cell_type": "code",
   "execution_count": 4,
   "id": "dac06396",
   "metadata": {},
   "outputs": [
    {
     "name": "stdout",
     "output_type": "stream",
     "text": [
      "['perro', 'loro', 'conejo', 'oso']\n"
     ]
    }
   ],
   "source": [
    "animales = [\"perro\", \"gato\", \"conejo\", \"pez\"]\n",
    "animales[1]= \"loro\"\n",
    "animales[3]=\"oso\"\n",
    "print(animales)"
   ]
  },
  {
   "cell_type": "markdown",
   "id": "f852c94b",
   "metadata": {},
   "source": [
    "5) Analizar el siguiente programa y explicar con tus palabras qué es lo que realiza."
   ]
  },
  {
   "attachments": {
    "ScreenShot_7_5_2025_21_38_43.png": {
     "image/png": "[encoded data removed]"
    }
   },
   "cell_type": "markdown",
   "id": "7db02c3f",
   "metadata": {},
   "source": [
    "![ScreenShot_7_5_2025_21_38_43.png](attachment:ScreenShot_7_5_2025_21_38_43.png)"
   ]
  },
  {
   "cell_type": "markdown",
   "id": "d75716e9",
   "metadata": {},
   "source": [
    "hay una lista llamadas numeros , luego con la funcion remove elimina el numero mas grande de la lista"
   ]
  },
  {
   "cell_type": "code",
   "execution_count": 5,
   "id": "f205ec93",
   "metadata": {},
   "outputs": [
    {
     "name": "stdout",
     "output_type": "stream",
     "text": [
      "[1, 34, 4, 23]\n"
     ]
    }
   ],
   "source": [
    "numeros =[1,34,4,56,23]\n",
    "numeros.remove(max(numeros))\n",
    "print(numeros)"
   ]
  },
  {
   "cell_type": "markdown",
   "id": "007f0fe2",
   "metadata": {},
   "source": [
    "6) Crear una lista con números del 10 al 30 (incluído), haciendo saltos de 5 en 5 y mostrar por\n",
    "pantalla los dos primeros"
   ]
  },
  {
   "cell_type": "code",
   "execution_count": 7,
   "id": "20a27822",
   "metadata": {},
   "outputs": [
    {
     "name": "stdout",
     "output_type": "stream",
     "text": [
      "[10, 15]\n"
     ]
    }
   ],
   "source": [
    "lista = list(range(10,35,5))\n",
    "print(lista[0:2])"
   ]
  },
  {
   "cell_type": "markdown",
   "id": "66d5d469",
   "metadata": {},
   "source": [
    "7) Reemplazar los dos valores centrales (índices 1 y 2) de la lista “autos” por dos nuevos valores\n",
    "cualesquiera.\n"
   ]
  },
  {
   "cell_type": "code",
   "execution_count": 8,
   "id": "284774be",
   "metadata": {},
   "outputs": [
    {
     "name": "stdout",
     "output_type": "stream",
     "text": [
      "['sedan', 'filete', 'lacoste', 'gol']\n"
     ]
    }
   ],
   "source": [
    "autos = [\"sedan\", \"polo\", \"suran\", \"gol\"]\n",
    "autos [1] = \"filete\"\n",
    "autos [2] = \"lacoste\"\n",
    "print(autos)"
   ]
  },
  {
   "cell_type": "markdown",
   "id": "833ab126",
   "metadata": {},
   "source": [
    "8) Crear una lista vacía llamada \"dobles\" y agregar el doble de 5, 10 y 15 usando append\n",
    "directamente. Imprimir la lista resultante por pantalla.\n"
   ]
  },
  {
   "cell_type": "code",
   "execution_count": 14,
   "id": "c14abf63",
   "metadata": {},
   "outputs": [
    {
     "name": "stdout",
     "output_type": "stream",
     "text": [
      "[5, 10, 15]\n"
     ]
    }
   ],
   "source": [
    "dobles =[]\n",
    "for i in range(5,20,5):\n",
    "    dobles.append(i)\n",
    "\n",
    "print(dobles)"
   ]
  },
  {
   "cell_type": "markdown",
   "id": "826d77ec",
   "metadata": {},
   "source": [
    "9) Dada la lista “compras”, cuyos elementos representan los productos comprados por\n",
    "diferentes clientes:\n",
    "\n",
    "a) Agregar \"jugo\" a la lista del tercer cliente usando append.\n",
    "\n",
    "b) Reemplazar \"fideos\" por \"tallarines\" en la lista del \n",
    "segundo cliente.\n",
    "\n",
    "c) Eliminar \"pan\" de la lista del primer cliente.\n",
    "\n",
    "d) Imprimir la lista resultante por pantalla\n"
   ]
  },
  {
   "cell_type": "code",
   "execution_count": 19,
   "id": "3eef92bc",
   "metadata": {},
   "outputs": [
    {
     "name": "stdout",
     "output_type": "stream",
     "text": [
      "[['leche'], ['arroz', 'tallarines', 'salsa'], ['agua', 'jugo']]\n"
     ]
    }
   ],
   "source": [
    "compras = [[\"pan\", \"leche\"], [\"arroz\", \"fideos\", \"salsa\"],\n",
    "[\"agua\"]]\n",
    "#a\n",
    "compras[2].append(\"jugo\")\n",
    "#b\n",
    "compras[1][1]=\"tallarines\"\n",
    "#c\n",
    "compras[0].remove(\"pan\")\n",
    "#d\n",
    "print(compras)\n",
    "\n"
   ]
  },
  {
   "cell_type": "markdown",
   "id": "ee0eb5fd",
   "metadata": {},
   "source": [
    "10) Elaborar una lista anidada llamada “lista_anidada” que contenga los siguientes elementos:\n",
    "\n",
    "● Posición lista_anidada[0]: 15\n",
    "\n",
    "● Posición lista_anidada[1]: True\n",
    "\n",
    "● Posición lista_anidada[2][0]: 25.5\n",
    "\n",
    "● Posición lista_anidada[2][1]: 57.9\n",
    "\n",
    "● Posición lista_anidada[2][2]: 30.6\n",
    "\n",
    "● Posición lista_anidada[3]: False\n",
    "\n",
    "Imprimir la lista resultante por pantalla"
   ]
  },
  {
   "cell_type": "code",
   "execution_count": 27,
   "id": "f46ce4e0",
   "metadata": {},
   "outputs": [
    {
     "name": "stdout",
     "output_type": "stream",
     "text": [
      "[[15], [True], [25.5, 57.9, 30], False]\n"
     ]
    }
   ],
   "source": [
    "lista_anidada = []\n",
    "lista_anidada.append([15])\n",
    "lista_anidada.append([True])\n",
    "lista_anidada.append([25.5])\n",
    "lista_anidada[2].append(57.9)\n",
    "lista_anidada[2].append(30)\n",
    "lista_anidada.append(False)\n",
    "print(lista_anidada)\n",
    "\n"
   ]
  }
 ],
 "metadata": {
  "kernelspec": {
   "display_name": "Python 3",
   "language": "python",
   "name": "python3"
  },
  "language_info": {
   "codemirror_mode": {
    "name": "ipython",
    "version": 3
   },
   "file_extension": ".py",
   "mimetype": "text/x-python",
   "name": "python",
   "nbconvert_exporter": "python",
   "pygments_lexer": "ipython3",
   "version": "3.9.13"
  }
 },
 "nbformat": 4,
 "nbformat_minor": 5
}
