{
 "cells": [
  {
   "cell_type": "markdown",
   "id": "11bb50a7",
   "metadata": {},
   "source": [
    "1. Crear una función llamada imprimir_hola_mundo que imprima por\n",
    "pantalla el mensaje: “Hola Mundo!”. Llamar a esta función desde el\n",
    "programa principal."
   ]
  },
  {
   "cell_type": "code",
   "execution_count": 4,
   "id": "1d0d493f",
   "metadata": {},
   "outputs": [
    {
     "name": "stdout",
     "output_type": "stream",
     "text": [
      "hola mundo\n"
     ]
    }
   ],
   "source": [
    "#Funciones\n",
    "def decir_hola_a():\n",
    "    persona = input(\"decir hola a? \")\n",
    "    print(f\"hola {persona}\")\n",
    "#Programa Principal\n",
    "decir_hola_a()"
   ]
  },
  {
   "cell_type": "markdown",
   "id": "989f1c61",
   "metadata": {},
   "source": [
    "2. Crear una función llamada saludar_usuario(nombre) que reciba\n",
    "como parámetro un nombre y devuelva un saludo personalizado.\n",
    "Por ejemplo, si se llama con saludar_usuario(\"Marcos\"), deberá de\u0002volver: “Hola Marcos!”. Llamar a esta función desde el programa\n",
    "principal solicitando el nombre al usuario.\n"
   ]
  },
  {
   "cell_type": "code",
   "execution_count": 8,
   "id": "ce65cb86",
   "metadata": {},
   "outputs": [
    {
     "name": "stdout",
     "output_type": "stream",
     "text": [
      "hola Lucas!\n"
     ]
    }
   ],
   "source": [
    "#Funciones\n",
    "def saludar_usuario(nombre):\n",
    "    cadena = str(nombre)\n",
    "    print(f\"hola {cadena}!\")\n",
    "\n",
    "#Programa Principal\n",
    "saludar_usuario(\"Lucas\")"
   ]
  },
  {
   "cell_type": "markdown",
   "id": "1dfdc5c9",
   "metadata": {},
   "source": [
    "3. Crear una función llamada informacion_personal(nombre, apellido,\n",
    "edad, residencia) que reciba cuatro parámetros e imprima: “Soy\n",
    "[nombre] [apellido], tengo [edad] años y vivo en [residencia]”. Pe\u0002dir los datos al usuario y llamar a esta función con los valores in\u0002gresados."
   ]
  },
  {
   "cell_type": "code",
   "execution_count": 10,
   "id": "ce2443a0",
   "metadata": {},
   "outputs": [
    {
     "name": "stdout",
     "output_type": "stream",
     "text": [
      "soy faruk merrys, tengo 27 años y vivo en palermo \n"
     ]
    }
   ],
   "source": [
    "def informacion_personal(n,a,e,r):\n",
    "    print(f\"soy {n} {a}, tengo {e} años y vivo en {r} \")\n",
    "def pedir_input(texto):\n",
    "    info =input(f\"cual es tu {texto} ? :\")\n",
    "    return info\n",
    "\n",
    "#Programa principal\n",
    "nombre = pedir_input(\"nombre\")\n",
    "apellido = pedir_input(\"apellido\")\n",
    "edad = pedir_input(\"edad\")\n",
    "residencia = pedir_input(\"residencia\")\n",
    "informacion_personal(nombre,apellido,edad,residencia)"
   ]
  },
  {
   "cell_type": "markdown",
   "id": "3f34b464",
   "metadata": {},
   "source": [
    "4. Crear dos funciones: calcular_area_circulo(radio) que reciba el ra\u0002dio como parámetro y devuelva el área del círculo. calcular_peri\u0002metro_circulo(radio) que reciba el radio como parámetro y devuel\u0002va el perímetro del círculo. Solicitar el radio al usuario y llamar am\u0002bas funciones para mostrar los resultados.\n"
   ]
  },
  {
   "cell_type": "code",
   "execution_count": 15,
   "id": "7507f394",
   "metadata": {},
   "outputs": [
    {
     "name": "stdout",
     "output_type": "stream",
     "text": [
      "el area es de  15.71\n",
      "el perimetro es de  31.42\n"
     ]
    }
   ],
   "source": [
    "import math\n",
    "def calcular_area_circulo(radio):\n",
    "    A = math.pi * radio\n",
    "    return round(A,2)\n",
    "\n",
    "def calcular_perimetro(radio):\n",
    "    P = 2 * math.pi * radio\n",
    "    return round(P,2)\n",
    "\n",
    "def pedir_numero(n):\n",
    "    return int(input(f\"cual es el {n} \"))\n",
    "\n",
    "radio = pedir_numero(\"radio\")\n",
    "print(\"el area es de \",calcular_area_circulo(radio))\n",
    "print(\"el perimetro es de \",calcular_perimetro(radio))\n",
    "\n"
   ]
  },
  {
   "cell_type": "markdown",
   "id": "5b278132",
   "metadata": {},
   "source": [
    "5. Crear una función llamada segundos_a_horas(segundos) que reciba\n",
    "una cantidad de segundos como parámetro y devuelva la cantidad\n",
    "de horas correspondientes. Solicitar al usua"
   ]
  },
  {
   "cell_type": "code",
   "execution_count": 17,
   "id": "20037ade",
   "metadata": {},
   "outputs": [
    {
     "name": "stdout",
     "output_type": "stream",
     "text": [
      "2.0\n"
     ]
    }
   ],
   "source": [
    "\n",
    "def segundos_a_horas(s):\n",
    "    return (s/3600)\n",
    "#Programa principal\n",
    "print(segundos_a_horas(7200)) "
   ]
  },
  {
   "cell_type": "markdown",
   "id": "a575029b",
   "metadata": {},
   "source": [
    "6. Crear una función llamada tabla_multiplicar(numero) que reciba un\n",
    "número como parámetro y imprima la tabla de multiplicar de ese\n",
    "número del 1 al 10. Pedir al usuario el número y llamar a la fun\u0002ción."
   ]
  },
  {
   "cell_type": "code",
   "execution_count": 21,
   "id": "901f932f",
   "metadata": {},
   "outputs": [
    {
     "name": "stdout",
     "output_type": "stream",
     "text": [
      "6  *  1  =  6\n",
      "6  *  2  =  12\n",
      "6  *  3  =  18\n",
      "6  *  4  =  24\n",
      "6  *  5  =  30\n",
      "6  *  6  =  36\n",
      "6  *  7  =  42\n",
      "6  *  8  =  48\n",
      "6  *  9  =  54\n",
      "6  *  10  =  60\n"
     ]
    }
   ],
   "source": [
    "def tabla_multiplicar(numero):\n",
    "    for i in range(1,10+1):\n",
    "        print(numero,\" * \",i,\" = \",numero*i )\n",
    "\n",
    "def pedir_entero(mensaje):\n",
    "    n = int(input(mensaje))\n",
    "    return n\n",
    "\n",
    "numero = pedir_entero(\"Escribe un numero\")\n",
    "tabla_multiplicar(numero)"
   ]
  },
  {
   "cell_type": "markdown",
   "id": "7379ef76",
   "metadata": {},
   "source": [
    "7. Crear una función llamada operaciones_basicas(a, b) que reciba\n",
    "dos números como parámetros y devuelva una tupla con el resulta\u0002do de sumarlos, restarlos, multiplicarlos y dividirlos. Mostrar los re\u0002sultados de forma clara."
   ]
  },
  {
   "cell_type": "code",
   "execution_count": 23,
   "id": "a89ae28a",
   "metadata": {},
   "outputs": [
    {
     "name": "stdout",
     "output_type": "stream",
     "text": [
      "(5, 1, 6, 1)\n"
     ]
    }
   ],
   "source": [
    "def operaciones_basicas(a,b):\n",
    "    mi_tupla =(a+b,a-b,a*b,a//b)\n",
    "    return mi_tupla\n",
    "def pedir_entero(mensaje):\n",
    "    n = int(input(mensaje))\n",
    "    return n\n",
    "\n",
    "a = pedir_entero(\"Escribe un numero\")\n",
    "b = pedir_entero(\"Escribe un numero\")\n",
    "\n",
    "print(operaciones_basicas(a,b))"
   ]
  },
  {
   "cell_type": "markdown",
   "id": "d4322284",
   "metadata": {},
   "source": [
    "8. Crear una función llamada calcular_imc(peso, altura) que reciba el\n",
    "peso en kilogramos y la altura en metros, y devuelva el índice de\n",
    "masa corporal (IMC). Solicitar al usuario los datos y"
   ]
  },
  {
   "cell_type": "code",
   "execution_count": 25,
   "id": "d6b71658",
   "metadata": {},
   "outputs": [
    {
     "name": "stdout",
     "output_type": "stream",
     "text": [
      "29.0\n"
     ]
    }
   ],
   "source": [
    "def calcular_imc(peso,altura):\n",
    "    return peso // altura**2\n",
    "\n",
    "def pedir_entero(mensaje):\n",
    "    n = float(input(mensaje))\n",
    "    return n\n",
    "\n",
    "peso = pedir_entero(\"cual es tu peso\")\n",
    "altura = pedir_entero(\"cual es tu altura\")\n",
    "print(calcular_imc(peso,altura))"
   ]
  },
  {
   "cell_type": "markdown",
   "id": "8566e165",
   "metadata": {},
   "source": [
    "9. Crear una función llamada celsius_a_fahrenheit(celsius) que reciba\n",
    "una temperatura en grados Celsius y devuelva su equivalente en\n",
    "Fahrenheit. Pedir al usuario la temperatura en Celsius y mostrar el\n",
    "resultado usando la función."
   ]
  },
  {
   "cell_type": "code",
   "execution_count": null,
   "id": "00bd6bdd",
   "metadata": {},
   "outputs": [
    {
     "name": "stdout",
     "output_type": "stream",
     "text": [
      "grado en farenheit es de  77.0\n"
     ]
    }
   ],
   "source": [
    "def celsius_a_fahrenheit(celsius):\n",
    "    F= (celsius * (9/5))+32\n",
    "    return F\n",
    "def pedir_entero(mensaje):\n",
    "    n = int(input(mensaje))\n",
    "    return n\n",
    "\n",
    "celcius = pedir_entero(\"escribe el graod en celcius\")\n",
    "\n",
    "print(\"grado en farenheit es de \",celsius_a_fahrenheit(celcius),\" Farehnheit grados\")"
   ]
  },
  {
   "cell_type": "markdown",
   "id": "61800ab9",
   "metadata": {},
   "source": [
    "10.Crear una función llamada calcular_promedio(a, b, c) que reciba\n",
    "tres números como parámetros y devuelva el promedio de ellos.\n",
    "Solicitar los números al usuario y mostrar el resultado usando esta\n",
    "función.\n"
   ]
  },
  {
   "cell_type": "code",
   "execution_count": 28,
   "id": "d309b75a",
   "metadata": {},
   "outputs": [
    {
     "name": "stdout",
     "output_type": "stream",
     "text": [
      "el promedio de los 3 numeros son  59\n"
     ]
    }
   ],
   "source": [
    "def pedir_entero(mensaje):\n",
    "    n = int(input(mensaje))\n",
    "    return n\n",
    "\n",
    "def calcular_promedio(a, b, c):\n",
    "    return (a+b+c)// 3\n",
    "\n",
    "a = pedir_entero(\"Escribe un numero A\")\n",
    "b = pedir_entero(\"Escribe un numero B\")\n",
    "c = pedir_entero(\"Escribe un numero C\")\n",
    "\n",
    "print(\"el promedio de los 3 numeros son \",calcular_promedio(a, b, c))"
   ]
  }
 ],
 "metadata": {
  "kernelspec": {
   "display_name": "Python 3",
   "language": "python",
   "name": "python3"
  },
  "language_info": {
   "codemirror_mode": {
    "name": "ipython",
    "version": 3
   },
   "file_extension": ".py",
   "mimetype": "text/x-python",
   "name": "python",
   "nbconvert_exporter": "python",
   "pygments_lexer": "ipython3",
   "version": "3.9.13"
  }
 },
 "nbformat": 4,
 "nbformat_minor": 5
}
