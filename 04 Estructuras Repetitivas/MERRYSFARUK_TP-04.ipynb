{
 "cells": [
  {
   "cell_type": "markdown",
   "id": "2e1a08ab",
   "metadata": {},
   "source": [
    "1) Crea un programa que imprima en pantalla todos los números enteros desde 0 hasta 100\n",
    "(incluyendo ambos extremos), en orden creciente, mostrando un número por línea.\n"
   ]
  },
  {
   "cell_type": "code",
   "execution_count": 2,
   "id": "05dbed4c",
   "metadata": {},
   "outputs": [
    {
     "name": "stdout",
     "output_type": "stream",
     "text": [
      "0\n",
      "1\n",
      "2\n",
      "3\n",
      "4\n",
      "5\n",
      "6\n",
      "7\n",
      "8\n",
      "9\n",
      "10\n",
      "11\n",
      "12\n",
      "13\n",
      "14\n",
      "15\n",
      "16\n",
      "17\n",
      "18\n",
      "19\n",
      "20\n",
      "21\n",
      "22\n",
      "23\n",
      "24\n",
      "25\n",
      "26\n",
      "27\n",
      "28\n",
      "29\n",
      "30\n",
      "31\n",
      "32\n",
      "33\n",
      "34\n",
      "35\n",
      "36\n",
      "37\n",
      "38\n",
      "39\n",
      "40\n",
      "41\n",
      "42\n",
      "43\n",
      "44\n",
      "45\n",
      "46\n",
      "47\n",
      "48\n",
      "49\n",
      "50\n",
      "51\n",
      "52\n",
      "53\n",
      "54\n",
      "55\n",
      "56\n",
      "57\n",
      "58\n",
      "59\n",
      "60\n",
      "61\n",
      "62\n",
      "63\n",
      "64\n",
      "65\n",
      "66\n",
      "67\n",
      "68\n",
      "69\n",
      "70\n",
      "71\n",
      "72\n",
      "73\n",
      "74\n",
      "75\n",
      "76\n",
      "77\n",
      "78\n",
      "79\n",
      "80\n",
      "81\n",
      "82\n",
      "83\n",
      "84\n",
      "85\n",
      "86\n",
      "87\n",
      "88\n",
      "89\n",
      "90\n",
      "91\n",
      "92\n",
      "93\n",
      "94\n",
      "95\n",
      "96\n",
      "97\n",
      "98\n",
      "99\n",
      "100\n"
     ]
    }
   ],
   "source": [
    "for i in range(100+1):\n",
    "    print(i)"
   ]
  },
  {
   "cell_type": "markdown",
   "id": "52935369",
   "metadata": {},
   "source": [
    "2) Desarrolla un programa que solicite al usuario un número entero y determine la cantidad de\n",
    "dígitos que contiene."
   ]
  },
  {
   "cell_type": "code",
   "execution_count": 10,
   "id": "7047f89f",
   "metadata": {},
   "outputs": [
    {
     "name": "stdout",
     "output_type": "stream",
     "text": [
      "numero de digitos del numero  188888  es de  6  digitos\n"
     ]
    }
   ],
   "source": [
    "num = int(input(\"Ingrese un numero\"))\n",
    "numero = num\n",
    "contador = 0\n",
    "while num > 0 :\n",
    "    num = num // 10\n",
    "    contador += 1\n",
    "\n",
    "print(\"numero de digitos del numero \",numero,\" es de \",contador,\" digitos\")\n",
    "\n",
    "    \n"
   ]
  },
  {
   "cell_type": "markdown",
   "id": "5725bd77",
   "metadata": {},
   "source": [
    "3) Escribe un programa que sume todos los números enteros comprendidos entre dos valores\n",
    "dados por el usuario, excluyendo esos dos valores."
   ]
  },
  {
   "cell_type": "code",
   "execution_count": 16,
   "id": "1dc1d026",
   "metadata": {},
   "outputs": [
    {
     "name": "stdout",
     "output_type": "stream",
     "text": [
      "15\n",
      "+\n",
      "14\n",
      "+\n",
      "13\n",
      "+\n",
      "12\n",
      "+\n",
      "11\n",
      "+\n",
      "10\n",
      "+\n",
      "9\n",
      "+\n",
      "8\n",
      "+\n",
      "7\n",
      "+\n",
      "6\n",
      "=\n",
      "105\n"
     ]
    },
    {
     "data": {
      "text/plain": [
       "' \\n5 > 1\\n    \\n'"
      ]
     },
     "execution_count": 16,
     "metadata": {},
     "output_type": "execute_result"
    }
   ],
   "source": [
    "num1 = int(input(\"Escribe un numero 1\"))\n",
    "num2 = int(input(\"Escribe un numero 2\"))\n",
    "\n",
    "if num1 > num2:\n",
    "    suma= num1\n",
    "    print(num1)\n",
    "    print(\"+\")\n",
    "    while num1 > num2 :\n",
    "        num1-= 1\n",
    "        print(num1)\n",
    "        if num1 != num2 :\n",
    "            print(\"+\")\n",
    "        suma += num1\n",
    "if num2 > num1:\n",
    "    suma= num2\n",
    "    print(num2)\n",
    "    print(\"+\")\n",
    "    while num2 > num1 :\n",
    "        num2-= 1\n",
    "        print(num2)\n",
    "        if num2 != num1 :\n",
    "            print(\"+\")\n",
    "        suma += num2\n",
    "print(\"=\")\n",
    "print(suma)\n",
    "\n",
    "\n",
    "\n",
    "\"\"\" \n",
    "5 > 1\n",
    "    \n",
    "\"\"\""
   ]
  },
  {
   "cell_type": "markdown",
   "id": "e12146aa",
   "metadata": {},
   "source": [
    "4) Elabora un programa que permita al usuario ingresar números enteros y los sume en\n",
    "secuencia. El programa debe detenerse y mostrar el total acumulado cuando el usuario ingrese\n",
    "un 0."
   ]
  },
  {
   "cell_type": "code",
   "execution_count": 1,
   "id": "6c30e50d",
   "metadata": {},
   "outputs": [
    {
     "name": "stdout",
     "output_type": "stream",
     "text": [
      "5\n",
      "+\n",
      "5\n",
      "+\n",
      "La suma es de  10\n"
     ]
    }
   ],
   "source": [
    "num = int(input(\"Escribe un numero: \"))\n",
    "sumatoria = 0\n",
    "while num != 0 :\n",
    "    sumatoria += num\n",
    "    print(num)\n",
    "    print(\"+\")\n",
    "    num = int(input(\"Escribe un numero:  (ingrese 0 para cancelar)\"))\n",
    "\n",
    "print(\"La suma es de \",sumatoria)"
   ]
  },
  {
   "cell_type": "markdown",
   "id": "19e6d45e",
   "metadata": {},
   "source": [
    "5) Crea un juego en el que el usuario deba adivinar un número aleatorio entre 0 y 9. Al final, el \n",
    "programa debe mostrar cuántos intentos fueron necesarios para acertar el número"
   ]
  },
  {
   "cell_type": "code",
   "execution_count": 9,
   "id": "4e038381",
   "metadata": {},
   "outputs": [
    {
     "name": "stdout",
     "output_type": "stream",
     "text": [
      "intenta de nuevo el numero que escribiste fue 9 \n",
      "intenta de nuevo el numero que escribiste fue 8 \n",
      "intenta de nuevo el numero que escribiste fue 7 \n",
      "adivinaste el numero 6\n",
      "numero de intentos 4\n"
     ]
    }
   ],
   "source": [
    "import random\n",
    "numero_usuario = int(input(\"Adivina el numero\"))\n",
    "numero_ramdon = random.randint(0,9)\n",
    "cont = 1\n",
    "while(numero_usuario != numero_ramdon):\n",
    "    print(f\"intenta de nuevo el numero que escribiste fue {numero_usuario} \")\n",
    "    numero_usuario = int(input(\"intentalo denuevo , adivina el  numero: \"))\n",
    "    cont += 1 \n",
    "print(f\"adivinaste el numero {numero_ramdon}\")\n",
    "print(f\"numero de intentos {cont}\")"
   ]
  },
  {
   "cell_type": "markdown",
   "id": "5291482a",
   "metadata": {},
   "source": [
    "6) Desarrolla un programa que imprima en pantalla todos los números pares comprendidos\n",
    "entre 0 y 100, en orden decreciente."
   ]
  },
  {
   "cell_type": "code",
   "execution_count": 16,
   "id": "67c7c167",
   "metadata": {},
   "outputs": [
    {
     "name": "stdout",
     "output_type": "stream",
     "text": [
      "100\n",
      "98\n",
      "96\n",
      "94\n",
      "92\n",
      "90\n",
      "88\n",
      "86\n",
      "84\n",
      "82\n",
      "80\n",
      "78\n",
      "76\n",
      "74\n",
      "72\n",
      "70\n",
      "68\n",
      "66\n",
      "64\n",
      "62\n",
      "60\n",
      "58\n",
      "56\n",
      "54\n",
      "52\n",
      "50\n",
      "48\n",
      "46\n",
      "44\n",
      "42\n",
      "40\n",
      "38\n",
      "36\n",
      "34\n",
      "32\n",
      "30\n",
      "28\n",
      "26\n",
      "24\n",
      "22\n",
      "20\n",
      "18\n",
      "16\n",
      "14\n",
      "12\n",
      "10\n",
      "8\n",
      "6\n",
      "4\n",
      "2\n",
      "0\n"
     ]
    }
   ],
   "source": [
    "for i in range (100,0-1,-2):\n",
    "    print(i)\n"
   ]
  },
  {
   "cell_type": "markdown",
   "id": "d546e552",
   "metadata": {},
   "source": [
    "7) Crea un programa que calcule la suma de todos los números comprendidos entre 0 y un \n",
    "número entero positivo indicado por el usuario"
   ]
  },
  {
   "cell_type": "code",
   "execution_count": 18,
   "id": "cbcf1495",
   "metadata": {},
   "outputs": [
    {
     "name": "stdout",
     "output_type": "stream",
     "text": [
      "0\n",
      "+\n",
      "1\n",
      "+\n",
      "2\n",
      "+\n",
      "3\n",
      "+\n",
      "4\n",
      "+\n",
      "5\n",
      "=\n",
      "15\n"
     ]
    }
   ],
   "source": [
    "num_positivo =int(input(\"Ingresa un numero\"))\n",
    "sum = 0\n",
    "\n",
    "for i in range(0,num_positivo+1):\n",
    "    sum += i\n",
    "    print(i)\n",
    "    if i != num_positivo:\n",
    "        print(\"+\")\n",
    "print(\"=\")\n",
    "print(sum)"
   ]
  },
  {
   "cell_type": "markdown",
   "id": "43a2d954",
   "metadata": {},
   "source": [
    "8) Escribe un programa que permita al usuario ingresar 100 números enteros. Luego, el\n",
    "programa debe indicar cuántos de estos números son pares, cuántos son impares, cuántos son \n",
    "negativos y cuántos son positivos. (Nota: para probar el programa puedes usar una cantidad \n",
    "menor, pero debe estar preparado para procesar 100 números con un solo cambio)\n",
    "\n"
   ]
  },
  {
   "cell_type": "code",
   "execution_count": null,
   "id": "cb5dcf57",
   "metadata": {},
   "outputs": [
    {
     "name": "stdout",
     "output_type": "stream",
     "text": [
      "numeros positivos:  1\n",
      "numeros negativos:  9\n",
      "numeros pares:  5\n",
      "numeros impares:  5\n"
     ]
    }
   ],
   "source": [
    "positivo = 0\n",
    "negativo = 0\n",
    "par=0\n",
    "impar = 0\n",
    "\n",
    "for i in range(100):\n",
    "    number = int(input(\"Ingrese numero\"))\n",
    "    if (number >= 0):\n",
    "        positivo += 1\n",
    "    else:\n",
    "        negativo += 1\n",
    "    \n",
    "    if number % 2 == 0:\n",
    "        par += 1\n",
    "    else:\n",
    "        impar += 1\n",
    "\n",
    "print(\"numeros positivos: \", positivo)\n",
    "print(\"numeros negativos: \", negativo)\n",
    "print(\"numeros pares: \", par)\n",
    "print(\"numeros impares: \", impar)\n"
   ]
  },
  {
   "cell_type": "markdown",
   "id": "b271f388",
   "metadata": {},
   "source": [
    "9) Elabora un programa que permita al usuario ingresar 100 números enteros y luego calcule la \n",
    "media de esos valores. (Nota: puedes probar el programa con una cantidad menor, pero debe \n",
    "poder procesar 100 números cambiando solo un valor)"
   ]
  },
  {
   "cell_type": "code",
   "execution_count": null,
   "id": "06b05052",
   "metadata": {},
   "outputs": [
    {
     "name": "stdout",
     "output_type": "stream",
     "text": [
      "[1, 2, 3, 4, 5, 6, 6, 7, 8, 9, 0, 10, 11, 12, 12]\n",
      "la media es de  6\n"
     ]
    }
   ],
   "source": [
    "from statistics import median\n",
    "lista = []\n",
    "for i in range (100):\n",
    "    nombre = int(input(\"Ingrese un numero\"))\n",
    "    lista.append(nombre)\n",
    "\n",
    "\n",
    "mediana = median(lista)\n",
    "print(lista)\n",
    "print(\"la media es de \",mediana)\n"
   ]
  },
  {
   "cell_type": "markdown",
   "id": "f16b0ea4",
   "metadata": {},
   "source": [
    "10) Escribe un programa que invierta el orden de los dígitos de un número ingresado por el \n",
    "usuario. Ejemplo: si el usuario ingresa 547, el programa debe mostrar 745"
   ]
  },
  {
   "cell_type": "code",
   "execution_count": 46,
   "id": "21b38436",
   "metadata": {},
   "outputs": [
    {
     "name": "stdout",
     "output_type": "stream",
     "text": [
      "654\n",
      "654"
     ]
    }
   ],
   "source": [
    "texto = input(\"Ingrese un numero : \")\n",
    "invertido = texto[::-1]\n",
    "print(invertido)\n",
    "\n",
    "for i in range (len(texto)-1 ,-1,-1):\n",
    "    print(texto[i], end = \"\")\n",
    "\n",
    "\n",
    "\n"
   ]
  }
 ],
 "metadata": {
  "kernelspec": {
   "display_name": "Python 3",
   "language": "python",
   "name": "python3"
  },
  "language_info": {
   "codemirror_mode": {
    "name": "ipython",
    "version": 3
   },
   "file_extension": ".py",
   "mimetype": "text/x-python",
   "name": "python",
   "nbconvert_exporter": "python",
   "pygments_lexer": "ipython3",
   "version": "3.9.13"
  }
 },
 "nbformat": 4,
 "nbformat_minor": 5
}
